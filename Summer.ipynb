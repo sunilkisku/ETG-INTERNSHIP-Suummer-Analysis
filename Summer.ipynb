{
  "nbformat": 4,
  "nbformat_minor": 0,
  "metadata": {
    "kernelspec": {
      "display_name": "Python 2",
      "language": "python",
      "name": "python2"
    },
    "language_info": {
      "codemirror_mode": {
        "name": "ipython",
        "version": 2
      },
      "file_extension": ".py",
      "mimetype": "text/x-python",
      "name": "python",
      "nbconvert_exporter": "python",
      "pygments_lexer": "ipython2",
      "version": "2.7.16"
    },
    "colab": {
      "name": "Summer.ipynb",
      "provenance": [],
      "collapsed_sections": []
    }
  },
  "cells": [
    {
      "cell_type": "code",
      "metadata": {
        "id": "L9OiyQHo3YhE"
      },
      "source": [
        "import pandas as pd\n",
        "import numpy as np\n",
        "import matplotlib.pyplot as plt"
      ],
      "execution_count": 34,
      "outputs": []
    },
    {
      "cell_type": "code",
      "metadata": {
        "id": "7yPUO6PlQvjf"
      },
      "source": [
        "df=pd.read_csv(\"summer.csv\")"
      ],
      "execution_count": 35,
      "outputs": []
    },
    {
      "cell_type": "code",
      "metadata": {
        "colab": {
          "base_uri": "https://localhost:8080/",
          "height": 204
        },
        "id": "2rKL_thyAwOf",
        "outputId": "b236fa07-e196-4751-dd8e-e80ae9cd10b8"
      },
      "source": [
        "df.head()"
      ],
      "execution_count": 36,
      "outputs": [
        {
          "output_type": "execute_result",
          "data": {
            "text/plain": [
              "   Year    City     Sport Discipline             Athlete Country Gender  \\\n",
              "0  1896  Athens  Aquatics   Swimming       HAJOS, Alfred     HUN    Men   \n",
              "1  1896  Athens  Aquatics   Swimming    HERSCHMANN, Otto     AUT    Men   \n",
              "2  1896  Athens  Aquatics   Swimming   DRIVAS, Dimitrios     GRE    Men   \n",
              "3  1896  Athens  Aquatics   Swimming  MALOKINIS, Ioannis     GRE    Men   \n",
              "4  1896  Athens  Aquatics   Swimming  CHASAPIS, Spiridon     GRE    Men   \n",
              "\n",
              "                        Event   Medal  \n",
              "0              100M Freestyle    Gold  \n",
              "1              100M Freestyle  Silver  \n",
              "2  100M Freestyle For Sailors  Bronze  \n",
              "3  100M Freestyle For Sailors    Gold  \n",
              "4  100M Freestyle For Sailors  Silver  "
            ],
            "text/html": [
              "<div>\n",
              "<style scoped>\n",
              "    .dataframe tbody tr th:only-of-type {\n",
              "        vertical-align: middle;\n",
              "    }\n",
              "\n",
              "    .dataframe tbody tr th {\n",
              "        vertical-align: top;\n",
              "    }\n",
              "\n",
              "    .dataframe thead th {\n",
              "        text-align: right;\n",
              "    }\n",
              "</style>\n",
              "<table border=\"1\" class=\"dataframe\">\n",
              "  <thead>\n",
              "    <tr style=\"text-align: right;\">\n",
              "      <th></th>\n",
              "      <th>Year</th>\n",
              "      <th>City</th>\n",
              "      <th>Sport</th>\n",
              "      <th>Discipline</th>\n",
              "      <th>Athlete</th>\n",
              "      <th>Country</th>\n",
              "      <th>Gender</th>\n",
              "      <th>Event</th>\n",
              "      <th>Medal</th>\n",
              "    </tr>\n",
              "  </thead>\n",
              "  <tbody>\n",
              "    <tr>\n",
              "      <th>0</th>\n",
              "      <td>1896</td>\n",
              "      <td>Athens</td>\n",
              "      <td>Aquatics</td>\n",
              "      <td>Swimming</td>\n",
              "      <td>HAJOS, Alfred</td>\n",
              "      <td>HUN</td>\n",
              "      <td>Men</td>\n",
              "      <td>100M Freestyle</td>\n",
              "      <td>Gold</td>\n",
              "    </tr>\n",
              "    <tr>\n",
              "      <th>1</th>\n",
              "      <td>1896</td>\n",
              "      <td>Athens</td>\n",
              "      <td>Aquatics</td>\n",
              "      <td>Swimming</td>\n",
              "      <td>HERSCHMANN, Otto</td>\n",
              "      <td>AUT</td>\n",
              "      <td>Men</td>\n",
              "      <td>100M Freestyle</td>\n",
              "      <td>Silver</td>\n",
              "    </tr>\n",
              "    <tr>\n",
              "      <th>2</th>\n",
              "      <td>1896</td>\n",
              "      <td>Athens</td>\n",
              "      <td>Aquatics</td>\n",
              "      <td>Swimming</td>\n",
              "      <td>DRIVAS, Dimitrios</td>\n",
              "      <td>GRE</td>\n",
              "      <td>Men</td>\n",
              "      <td>100M Freestyle For Sailors</td>\n",
              "      <td>Bronze</td>\n",
              "    </tr>\n",
              "    <tr>\n",
              "      <th>3</th>\n",
              "      <td>1896</td>\n",
              "      <td>Athens</td>\n",
              "      <td>Aquatics</td>\n",
              "      <td>Swimming</td>\n",
              "      <td>MALOKINIS, Ioannis</td>\n",
              "      <td>GRE</td>\n",
              "      <td>Men</td>\n",
              "      <td>100M Freestyle For Sailors</td>\n",
              "      <td>Gold</td>\n",
              "    </tr>\n",
              "    <tr>\n",
              "      <th>4</th>\n",
              "      <td>1896</td>\n",
              "      <td>Athens</td>\n",
              "      <td>Aquatics</td>\n",
              "      <td>Swimming</td>\n",
              "      <td>CHASAPIS, Spiridon</td>\n",
              "      <td>GRE</td>\n",
              "      <td>Men</td>\n",
              "      <td>100M Freestyle For Sailors</td>\n",
              "      <td>Silver</td>\n",
              "    </tr>\n",
              "  </tbody>\n",
              "</table>\n",
              "</div>"
            ]
          },
          "metadata": {},
          "execution_count": 36
        }
      ]
    },
    {
      "cell_type": "markdown",
      "metadata": {
        "id": "qwsvgbYfwd_n"
      },
      "source": [
        "# Summer Olympics Data Analysis Assignment"
      ]
    },
    {
      "cell_type": "markdown",
      "metadata": {
        "id": "e8dW55RMwd_r"
      },
      "source": [
        "### 1. In how many cities Summer Olympics is held so far?"
      ]
    },
    {
      "cell_type": "code",
      "metadata": {
        "colab": {
          "base_uri": "https://localhost:8080/",
          "height": 459
        },
        "id": "m3qVsA0ZB-Tk",
        "outputId": "0e434854-55ba-40b4-ad38-69e415451433"
      },
      "source": [
        "data = []\n",
        "\n",
        "for City in df['City'].unique():\n",
        "    data.append([City , len(df[df['City']  == City])])\n",
        "\n",
        "pd.DataFrame(data,columns = ['City','freq']).sort_values(by='freq', ascending=False).plot(x = 'City', y = 'freq', kind = 'bar', figsize = (10,5))"
      ],
      "execution_count": 40,
      "outputs": [
        {
          "output_type": "execute_result",
          "data": {
            "text/plain": [
              "<matplotlib.axes._subplots.AxesSubplot at 0x7efe176b7150>"
            ]
          },
          "metadata": {},
          "execution_count": 40
        },
        {
          "output_type": "display_data",
          "data": {
            "image/png": "[encoded data removed]",
            "text/plain": [
              "<Figure size 720x360 with 1 Axes>"
            ]
          },
          "metadata": {
            "needs_background": "light"
          }
        }
      ]
    },
    {
      "cell_type": "markdown",
      "metadata": {
        "id": "6yvZAxAAwd_u"
      },
      "source": [
        "### 2. Which sport is having most number of Gold Medals so far? (Top 5)"
      ]
    },
    {
      "cell_type": "code",
      "metadata": {
        "colab": {
          "base_uri": "https://localhost:8080/",
          "height": 403
        },
        "id": "mMpaWszG-bRH",
        "outputId": "382c4d37-6d0b-4904-bb90-44351a52cd84"
      },
      "source": [
        "df=pd.read_csv(\"summer.csv\")\n",
        "df = df[ df['Medal'] == 'Gold']\n",
        "\n",
        "\n",
        "data = []\n",
        "\n",
        "for Sport in df['Sport'].unique():\n",
        "    data.append([Sport , len(df[df['Sport']  == Sport])])\n",
        "\n",
        "pd.DataFrame(data,columns = ['Sport','freq']).head().sort_values(by='freq', ascending=False).plot(x = 'Sport', y = 'freq', kind = 'bar', figsize = (5,5))"
      ],
      "execution_count": 87,
      "outputs": [
        {
          "output_type": "execute_result",
          "data": {
            "text/plain": [
              "<matplotlib.axes._subplots.AxesSubplot at 0x7efdf0a48d50>"
            ]
          },
          "metadata": {},
          "execution_count": 87
        },
        {
          "output_type": "display_data",
          "data": {
            "image/png": "[encoded data removed]",
            "text/plain": [
              "<Figure size 360x360 with 1 Axes>"
            ]
          },
          "metadata": {
            "needs_background": "light"
          }
        }
      ]
    },
    {
      "cell_type": "markdown",
      "metadata": {
        "id": "16fgF2U9wd_v"
      },
      "source": [
        "### 3. Which sport is having most number of medals so far? (Top 5)"
      ]
    },
    {
      "cell_type": "code",
      "metadata": {
        "colab": {
          "base_uri": "https://localhost:8080/",
          "height": 362
        },
        "id": "l4EKW9ykEaEg",
        "outputId": "c1fa1f05-31ff-4958-efb6-2f6a78838cc8"
      },
      "source": [
        "data = []\n",
        "\n",
        "for Medal in df['Sport'].unique():\n",
        "    data.append([ Medal, len(df[df['Sport']  == Medal])])\n",
        "\n",
        "pd.DataFrame(data,columns = ['Sport','freq']).sort_values(by='freq', ascending=False).plot(x = 'Sport', y = 'freq', kind = 'bar', figsize = (20,5))"
      ],
      "execution_count": 49,
      "outputs": [
        {
          "output_type": "execute_result",
          "data": {
            "text/plain": [
              "<matplotlib.axes._subplots.AxesSubplot at 0x7efe15569450>"
            ]
          },
          "metadata": {},
          "execution_count": 49
        },
        {
          "output_type": "display_data",
          "data": {
            "image/png": "[encoded data removed]",
            "text/plain": [
              "<Figure size 1440x360 with 1 Axes>"
            ]
          },
          "metadata": {
            "needs_background": "light"
          }
        }
      ]
    },
    {
      "cell_type": "markdown",
      "metadata": {
        "id": "cY_gBMiQwd_w"
      },
      "source": [
        "### 4. Which player has won most number of medals? (Top 5)"
      ]
    },
    {
      "cell_type": "code",
      "metadata": {
        "colab": {
          "base_uri": "https://localhost:8080/",
          "height": 444
        },
        "id": "uf-8czjZIPbY",
        "outputId": "9ea964c9-a785-4f62-bdb9-d94d7ffd611a"
      },
      "source": [
        "data = []\n",
        "\n",
        "for Athlete in df['Athlete'].unique():\n",
        "    data.append([Athlete , len(df[df['Athlete']  == Athlete])])\n",
        "\n",
        "pd.DataFrame(data,columns = ['Athlete','freq']).head().sort_values(by='freq', ascending=False).plot(x = 'Athlete', y = 'freq', kind = 'bar', figsize = (10,5))"
      ],
      "execution_count": 54,
      "outputs": [
        {
          "output_type": "execute_result",
          "data": {
            "text/plain": [
              "<matplotlib.axes._subplots.AxesSubplot at 0x7efe1504a950>"
            ]
          },
          "metadata": {},
          "execution_count": 54
        },
        {
          "output_type": "display_data",
          "data": {
            "image/png": "[encoded data removed]",
            "text/plain": [
              "<Figure size 720x360 with 1 Axes>"
            ]
          },
          "metadata": {
            "needs_background": "light"
          }
        }
      ]
    },
    {
      "cell_type": "markdown",
      "metadata": {
        "id": "o4UY2jaxwd_y"
      },
      "source": [
        "### 5. Which player has won most number Gold Medals of medals? (Top 5)"
      ]
    },
    {
      "cell_type": "code",
      "metadata": {
        "colab": {
          "base_uri": "https://localhost:8080/",
          "height": 502
        },
        "id": "4Q66Q2VELHd_",
        "outputId": "35f067bf-9c23-4032-d2eb-5792acef4970"
      },
      "source": [
        "df = df[ df['Medal'] == 'Gold']\n",
        "\n",
        "data = []\n",
        "\n",
        "for Athlete in df['Athlete'].unique():\n",
        "    data.append([Athlete , len(df[df['Athlete']  == Athlete])])\n",
        "\n",
        "pd.DataFrame(data,columns = ['Athlete','freq']).head().sort_values(by='freq', ascending=False).plot(x = 'Athlete', y = 'freq', kind = 'bar', figsize = (10,5))"
      ],
      "execution_count": 69,
      "outputs": [
        {
          "output_type": "execute_result",
          "data": {
            "text/plain": [
              "<matplotlib.axes._subplots.AxesSubplot at 0x7efe14e7de50>"
            ]
          },
          "metadata": {},
          "execution_count": 69
        },
        {
          "output_type": "display_data",
          "data": {
            "image/png": "[encoded data removed]",
            "text/plain": [
              "<Figure size 720x360 with 1 Axes>"
            ]
          },
          "metadata": {
            "needs_background": "light"
          }
        }
      ]
    },
    {
      "cell_type": "markdown",
      "metadata": {
        "id": "RT3fKvOiwd_z"
      },
      "source": [
        "### 6. In which year India won first Gold Medal in Summer Olympics?"
      ]
    },
    {
      "cell_type": "code",
      "metadata": {
        "id": "mDFIdOwuwd_0",
        "colab": {
          "base_uri": "https://localhost:8080/",
          "height": 370
        },
        "outputId": "4615c320-6514-4688-f8cd-4cb1cd6e9715"
      },
      "source": [
        "df=pd.read_csv(\"summer.csv\")\n",
        "df = df[ df['Country'] == 'IND']\n",
        "data = []\n",
        "\n",
        "for Year in df['Year'].unique():\n",
        "    data.append([ Year, len(df[df['Year']  == Year])])\n",
        "\n",
        "pd.DataFrame(data,columns = ['Year','freq']).head().sort_values(by='freq', ascending=True).plot(x = 'Year', y = 'freq', kind = 'bar', figsize = (10,5))"
      ],
      "execution_count": 90,
      "outputs": [
        {
          "output_type": "execute_result",
          "data": {
            "text/plain": [
              "<matplotlib.axes._subplots.AxesSubplot at 0x7efdef039590>"
            ]
          },
          "metadata": {},
          "execution_count": 90
        },
        {
          "output_type": "display_data",
          "data": {
            "image/png": "[encoded data removed]",
            "text/plain": [
              "<Figure size 720x360 with 1 Axes>"
            ]
          },
          "metadata": {
            "needs_background": "light"
          }
        }
      ]
    },
    {
      "cell_type": "code",
      "metadata": {
        "colab": {
          "base_uri": "https://localhost:8080/"
        },
        "id": "E5ej9ofjO6no",
        "outputId": "2a93466e-1df6-4946-8bd2-3904c3522c8d"
      },
      "source": [
        "data"
      ],
      "execution_count": 68,
      "outputs": [
        {
          "output_type": "execute_result",
          "data": {
            "text/plain": [
              "[[1900, 2],\n",
              " [1928, 15],\n",
              " [1932, 11],\n",
              " [1936, 19],\n",
              " [1948, 20],\n",
              " [1952, 15],\n",
              " [1956, 17],\n",
              " [1960, 13],\n",
              " [1964, 15],\n",
              " [1968, 15],\n",
              " [1972, 14],\n",
              " [1980, 16],\n",
              " [1996, 1],\n",
              " [2000, 1],\n",
              " [2004, 1],\n",
              " [2008, 3],\n",
              " [2012, 6]]"
            ]
          },
          "metadata": {},
          "execution_count": 68
        }
      ]
    },
    {
      "cell_type": "markdown",
      "metadata": {
        "id": "TtIfzG9iwd_0"
      },
      "source": [
        "### 7. Which event is most popular in terms on number of players? (Top 5)"
      ]
    },
    {
      "cell_type": "code",
      "metadata": {
        "id": "K46XSvCIwd_1",
        "colab": {
          "base_uri": "https://localhost:8080/",
          "height": 477
        },
        "outputId": "89659ad8-0188-41d4-c78d-28fe780ac214"
      },
      "source": [
        "df=pd.read_csv(\"summer.csv\")\n",
        "\n",
        "data = []\n",
        "\n",
        "for Event in df['Event'].unique():\n",
        "    data.append([Event , len(df[df['Event']  == Event])])\n",
        "\n",
        "pd.DataFrame(data,columns = ['Event','freq']).head().sort_values(by='freq', ascending=False).plot(x = 'Event', y = 'freq', kind = 'bar', figsize = (10,5))"
      ],
      "execution_count": 78,
      "outputs": [
        {
          "output_type": "execute_result",
          "data": {
            "text/plain": [
              "<matplotlib.axes._subplots.AxesSubplot at 0x7efdf43760d0>"
            ]
          },
          "metadata": {},
          "execution_count": 78
        },
        {
          "output_type": "display_data",
          "data": {
            "image/png": "[encoded data removed]",
            "text/plain": [
              "<Figure size 720x360 with 1 Axes>"
            ]
          },
          "metadata": {
            "needs_background": "light"
          }
        }
      ]
    },
    {
      "cell_type": "code",
      "metadata": {
        "colab": {
          "base_uri": "https://localhost:8080/"
        },
        "id": "s-wZKfE_VB0A",
        "outputId": "29c16f3b-be68-47b9-8b71-93aa8652b065"
      },
      "source": [
        "data"
      ],
      "execution_count": 77,
      "outputs": [
        {
          "output_type": "execute_result",
          "data": {
            "text/plain": [
              "[['100M Freestyle', 148],\n",
              " ['100M Freestyle For Sailors', 3],\n",
              " ['1200M Freestyle', 3],\n",
              " ['400M Freestyle', 144],\n",
              " ['100M', 142],\n",
              " ['110M Hurdles', 80],\n",
              " ['1500M', 114],\n",
              " ['400M', 119],\n",
              " ['800M', 126],\n",
              " ['Discus Throw', 141],\n",
              " ['High Jump', 151],\n",
              " ['Long Jump', 132],\n",
              " ['Marathon', 105],\n",
              " ['Pole Vault', 100],\n",
              " ['Shot Put', 132],\n",
              " ['Triple Jump', 96],\n",
              " ['Individual Road Race', 76],\n",
              " ['100KM', 5],\n",
              " ['10KM', 9],\n",
              " ['12-Hour Race', 2],\n",
              " ['1KM Time Trial', 57],\n",
              " ['Sprint Indivual', 69],\n",
              " ['Foil Individual', 141],\n",
              " ['Foil, Masters', 5],\n",
              " ['Sabre Individual', 90],\n",
              " ['Horizontal Bar', 72],\n",
              " ['Parallel Bars', 72],\n",
              " ['Pommel Horse', 69],\n",
              " ['Rings', 73],\n",
              " ['Rope Climbing', 13],\n",
              " ['Team, Horizontal Bar', 11],\n",
              " ['Team, Parallel Bars', 19],\n",
              " ['Vault', 123],\n",
              " ['25M Army Pistol', 3],\n",
              " ['25M Rapid Fire Pistol (60 Shots)', 69],\n",
              " ['50M Pistol (60 Shots)', 66],\n",
              " ['Army Rifle, 200M', 3],\n",
              " ['Army Rifle, 300M', 3],\n",
              " ['Doubles', 318],\n",
              " ['Singles', 168],\n",
              " ['Heavyweight - One Hand Lift', 3],\n",
              " ['Heavyweight - Two Hand Lift', 6],\n",
              " ['Open Event', 3],\n",
              " ['1500M Freestyle', 78],\n",
              " ['200M Backstroke', 79],\n",
              " ['200M Freestyle', 78],\n",
              " ['200M Obstacle Event', 3],\n",
              " ['200M Team Swimming', 15],\n",
              " ['4000M Freestyle', 3],\n",
              " ['Underwater Swimming', 3],\n",
              " ['Water Polo', 958],\n",
              " ['Au Chapelet, 33M', 3],\n",
              " ['Au Chapelet, 50M', 3],\n",
              " ['Au Cordon Dor\\xc3\\xa9, 33M', 3],\n",
              " ['Au Cordon Dor\\xc3\\xa9, 50M', 3],\n",
              " ['Sur La Perche \\xc3\\x80 La Herse', 3],\n",
              " ['Sur La Perche \\xc3\\x80 La Pyramide', 3],\n",
              " ['200M', 129],\n",
              " ['200M Hurdles', 6],\n",
              " ['3000M Steeplechase', 72],\n",
              " ['4000M Steeplechase', 3],\n",
              " ['400M Hurdles', 99],\n",
              " ['5000M Team', 10],\n",
              " ['60M', 6],\n",
              " ['Hammer Throw', 90],\n",
              " ['High Jump, Standing', 12],\n",
              " ['Long Jump, Standing', 12],\n",
              " ['Triple Jump, Standing', 6],\n",
              " ['Cesta Punta', 4],\n",
              " ['Cricket', 24],\n",
              " ['Double', 8],\n",
              " ['Individual 1 Ball', 3],\n",
              " ['Individual 2 Balls', 3],\n",
              " ['25 Kilometres', 3],\n",
              " ['Individual', 324],\n",
              " ['Long Jump Individual', 3],\n",
              " ['\\xc3\\x89p\\xc3\\xa9e Individual', 93],\n",
              " ['\\xc3\\x89p\\xc3\\xa9e, Amateurs And Masters', 3],\n",
              " ['\\xc3\\x89p\\xc3\\xa9e, Masters', 3],\n",
              " ['Sabre, Masters', 3],\n",
              " ['Football', 1497],\n",
              " ['Individual All-Round', 143],\n",
              " ['Polo', 66],\n",
              " ['Eight With Coxswain (8+)', 918],\n",
              " ['Four-Oared Shell With Coxswain (4-)', 359],\n",
              " ['Pair-Oared Shell With Coxswain (2+)', 162],\n",
              " ['Single Sculls (1X)', 104],\n",
              " ['Rugby', 192],\n",
              " ['0.5-1T', 10],\n",
              " ['10-20T', 4],\n",
              " ['3-10T', 3],\n",
              " ['Open Class', 9],\n",
              " ['50M Army Pistol, Team', 42],\n",
              " ['Army Rifle, 300M, 3 Positions', 7],\n",
              " ['Army Rifle, 300M, Kneeling', 3],\n",
              " ['Army Rifle, 300M, Prone', 6],\n",
              " ['Army Rifle, 300M, Standing', 6],\n",
              " ['Free Rifle, Team', 66],\n",
              " ['Trap (125 Targets)', 60],\n",
              " ['Mixed Doubles', 32],\n",
              " ['Tug Of War', 94],\n",
              " ['10M Platform', 145],\n",
              " ['Plunge For Distance', 3],\n",
              " ['100M Backstroke', 136],\n",
              " ['400M Breaststroke', 9],\n",
              " ['4X50Y Freestyle Relay', 12],\n",
              " ['50Y Freestyle (45.72M)', 3],\n",
              " ['880Y Freestyle (804.66M)', 3],\n",
              " ['Double American Round (60Y - 50Y - 40Y)', 3],\n",
              " ['Double Columbia Round (50Y - 40Y - 30Y)', 3],\n",
              " ['Double National Round (60Y - 50Y)', 3],\n",
              " ['Double York Round (100Y - 80Y - 60Y)', 3],\n",
              " ['Team Round 60Y', 12],\n",
              " ['Teams Fita Round', 24],\n",
              " ['4Miles Team', 10],\n",
              " ['56LB Weight Throw (25.4KG)', 6],\n",
              " ['Decathlon', 73],\n",
              " ['Triathlon (Long Jump / Shot Put / 100 Yards)', 3],\n",
              " ['- 47.63KG (Flyweight)', 2],\n",
              " ['+ 71.67KG (Heavyweight)', 9],\n",
              " ['47.63 - 52.16KG (Bantamweight)', 2],\n",
              " ['52.16 - 56.7KG (Featherweight)', 3],\n",
              " ['56.7 - 61.24KG (Lightweight)', 3],\n",
              " ['61.24 - 65.77KG (Welterweight)', 4],\n",
              " ['65.77 - 71.67KG (Middleweight)', 2],\n",
              " ['1 Mile (1609.3M)', 3],\n",
              " ['1/2 Mile (804.7M)', 3],\n",
              " ['1/3 Mile (536.5M)', 3],\n",
              " ['1/4 Mile (402.3M)', 3],\n",
              " ['2 Miles (3.218KM)', 3],\n",
              " ['25 Miles (40.232KM)', 3],\n",
              " ['5 Miles (8.046KM)', 3],\n",
              " ['Foil Team', 505],\n",
              " ['Stick, Single', 3],\n",
              " ['Team', 908],\n",
              " ['Club Swinging', 3],\n",
              " ['Combined 3 Events', 3],\n",
              " ['Combined 4 Events', 3],\n",
              " ['Team Competition', 1147],\n",
              " ['Lacrosse', 59],\n",
              " ['Coxless Pair (2-)', 132],\n",
              " ['Double Sculls (2X)', 186],\n",
              " ['Four Without Coxswain (4-)', 260],\n",
              " ['All-Around Dumbbell Contest', 3],\n",
              " ['- 47.6KG (Light-Flyweight)', 3],\n",
              " ['47.6 - 52.16KG (Flyweight)', 3],\n",
              " ['52.16 - 56.7KG (Bantamweight)', 3],\n",
              " ['56.7 - 61.23KG (Featherweight)', 3],\n",
              " ['61.23 - 65.77KG (Lightweight)', 3],\n",
              " ['65.77 - 71.67KG (Welterweight)', 3],\n",
              " ['3M Springboard', 139],\n",
              " ['200M Breaststroke', 135],\n",
              " ['4X200M Freestyle Relay', 380],\n",
              " ['Continental Style 50M', 3],\n",
              " ['National Round (60Y - 50Y)', 3],\n",
              " ['York Round (100Y - 80Y - 60Y)', 3],\n",
              " ['10Miles Walk (16093M)', 3],\n",
              " ['3200M Steeplechase', 3],\n",
              " ['3500M Walk', 3],\n",
              " ['3Miles Team (4828M)', 9],\n",
              " ['4X400M Relay', 451],\n",
              " ['5 Miles (8047M)', 3],\n",
              " ['Discus Throw Ancient Style', 3],\n",
              " ['Javelin Throw', 129],\n",
              " ['Javelin Throw Freestyle', 3],\n",
              " ['- 52.62KG (Bantamweight)', 3],\n",
              " ['52.62 - 57.15KG (Featherweight)', 3],\n",
              " ['57.15 - 63.5KG (Lightweight)', 3],\n",
              " ['63.5 - 71.67KG (Middleweight)', 3],\n",
              " ['1980 Yards Pursuit, Team', 12],\n",
              " ['2000M Tandem', 78],\n",
              " ['20KM', 3],\n",
              " ['5000M', 87],\n",
              " ['One Lap (660Y) Sprint', 3],\n",
              " ['\\xc3\\x89p\\xc3\\xa9e Team', 385],\n",
              " ['Sabre Team', 382],\n",
              " ['Hockey', 1422],\n",
              " ['12M', 47],\n",
              " ['6M', 102],\n",
              " ['7M', 12],\n",
              " ['8M', 93],\n",
              " ['1000Y Free Rifle, Prone', 3],\n",
              " ['100M Running Deer, Double Shots', 12],\n",
              " ['100M Running Deer, Single Shots', 12],\n",
              " ['100M Running Deer, Single Shots, Team', 51],\n",
              " ['25Y Small Bore Rifle, Disappearing Target', 3],\n",
              " ['25Y Small Bore Rifle, Moving Target', 3],\n",
              " ['300M Free Rifle 3 Positions (3X40 Shots)', 30],\n",
              " ['50+100Y Small Bore Rifle, Team', 12],\n",
              " ['50M Rifle Prone (60 Shots)', 63],\n",
              " ['50Y Army Pistol, Team', 12],\n",
              " ['Clay Pigeons, Team', 72],\n",
              " ['Rifle, Team', 36],\n",
              " ['Pairs', 12],\n",
              " ['Special Figures', 3],\n",
              " ['Doubles Indoor', 12],\n",
              " ['Singles Indoor', 12],\n",
              " ['8M Class C', 2],\n",
              " ['Class B Up To 60 Feet', 2],\n",
              " ['Open Class A', 1],\n",
              " ['- 54KG (Bantamweight)', 3],\n",
              " ['+ 73KG (Heavyweight)', 3],\n",
              " ['54 - 60.3KG (Featherweight)', 3],\n",
              " ['60.3 - 66.6KG (Lightweight)', 3],\n",
              " ['66.6 - 73KG (Middleweight)', 6],\n",
              " ['- 66.6KG (Lightweight)', 3],\n",
              " ['+ 93KG (Super Heavyweight)', 3],\n",
              " ['73 - 93KG (Light-Heavyweight)', 3],\n",
              " ['Plain High Diving', 9],\n",
              " ['4X100M Freestyle Relay', 438],\n",
              " ['10000M', 90],\n",
              " ['10000M Walk', 21],\n",
              " ['3000M Team', 41],\n",
              " ['4X100M Relay', 533],\n",
              " ['Cross Country Individual', 9],\n",
              " ['Cross Country Team', 36],\n",
              " ['Discus Throw, Both Hands', 3],\n",
              " ['Javelin Throw, Both Hands', 3],\n",
              " ['Pentathlon', 25],\n",
              " ['Shot Put, Both Hands', 3],\n",
              " ['Individual Time Trial', 36],\n",
              " ['Team Time Trial', 191],\n",
              " ['Team, Free System', 117],\n",
              " ['Team, Swedish System', 147],\n",
              " ['Individual Competition', 75],\n",
              " ['Coxed Fours Jugriggers', 15],\n",
              " ['10M', 22],\n",
              " ['25M Small Bore Rifle, Team', 12],\n",
              " ['25M Small Rifle', 3],\n",
              " ['30M Army Pistol, Team', 27],\n",
              " ['50M Small Bore Rifle, Team', 27],\n",
              " ['600M Free Rifle', 3],\n",
              " ['Mixed Doubles Indoor', 6],\n",
              " ['- 60KG (Featherweight)', 9],\n",
              " ['+ 82.5KG (Super Heavyweight)', 9],\n",
              " ['60 - 67.5KG (Lightweight)', 12],\n",
              " ['67.5 - 75KG (Middleweight)', 15],\n",
              " ['75 - 82.5KG (Light-Heavyweight)', 9],\n",
              " ['Fixed Bird Target Large Birds', 3],\n",
              " ['Fixed Bird Target Large Birds Teams', 6],\n",
              " ['Fixed Bird Target Small Bird, Teams', 6],\n",
              " ['Fixed Bird Target Small Birds', 3],\n",
              " ['Moving Bird Target 28M Teams', 24],\n",
              " ['Moving Bird Target 33M Teams', 16],\n",
              " ['Moving Bird Target 50M Teams', 16],\n",
              " ['Moving Bird Target, 28M', 2],\n",
              " ['Moving Bird Target, 33M', 2],\n",
              " ['Moving Bird Target, 50M', 2],\n",
              " ['3000M Walk', 3],\n",
              " ['- 50.8KG (Flyweight)', 15],\n",
              " ['+ 79.38KG (Heavyweight)', 15],\n",
              " ['50.8 - 53.52KG (Bantamweight)', 9],\n",
              " ['53.52 - 57.15KG (Featherweight)', 9],\n",
              " ['57.15 - 61.24KG (Lightweight)', 15],\n",
              " ['61.24 - 66.68KG (Welterweight)', 15],\n",
              " ['66.68 - 72.57KG (Middleweight)', 15],\n",
              " ['72.57 - 79.38KG (Light-Heavyweight)', 15],\n",
              " ['50KM', 6],\n",
              " ['Team Pursuit (4000M)', 262],\n",
              " ['Figure Riding Individual', 3],\n",
              " ['Figure Riding Team', 11],\n",
              " ['Ice Hockey', 27],\n",
              " ['10M (Rating 1907)', 7],\n",
              " ['10M (Rating 1919)', 7],\n",
              " ['12 Foot Dinghy', 4],\n",
              " ['12M (Rating 1907)', 9],\n",
              " ['12M (Rating 1919)', 9],\n",
              " ['18 Foot Dinghy', 2],\n",
              " ['30M Sq', 4],\n",
              " ['40M Sq', 8],\n",
              " ['6.5M (Rating 1919)', 6],\n",
              " ['6M (Rating 1907)', 9],\n",
              " ['6M (Rating 1919)', 6],\n",
              " ['8M (Rating 1907)', 9],\n",
              " ['8M (Rating 1919)', 14],\n",
              " ['100M Running Deer, Double Shots, Team', 33],\n",
              " ['300+600M Free Rifle, Team, Prone', 15],\n",
              " ['300M Free Rifle, Prone, Team', 15],\n",
              " ['300M Free Rifle, Standing, Team', 15],\n",
              " ['50M Small Bore Rifle, Standing, Individual', 3],\n",
              " ['600M Free Rifle, Prone', 3],\n",
              " ['600M Free Rifle, Team', 15],\n",
              " ['- 60KG, One-Two Hand 3 Events (Featherweight)', 3],\n",
              " ['+ 82.5KG, One-Two Hand 3 Events (Heavyweight)', 3],\n",
              " ['60 - 67.5KG, One-Two Hand 3 Events (Lightweight)', 3],\n",
              " ['67.5 - 75KG, One-Two Hand 3 Events (Middleweight)', 3],\n",
              " ['75 - 82.5KG, One-Two Hand 3 E. (Light-Heavyweight)', 3],\n",
              " ['+ 80KG (Heavyweight)', 11],\n",
              " ['75 - 80KG (Light-Heavyweight)', 3],\n",
              " ['+ 82KG (Super Heavyweight)', 3],\n",
              " ['75 - 82KG (Light-Heavyweight)', 3],\n",
              " ['Sidehorse Vault', 3],\n",
              " ['Olympic Class Monotype', 9],\n",
              " ['400, 600, 800M Free Rifle, Team', 18],\n",
              " ['600M Free Rifle, Individual', 3],\n",
              " ['- 60KG, One-Two Hand 5 Events (Featherweight)', 3],\n",
              " ['+ 82.5KG, One-Two Hand 5 Events (Heavyweight)', 3],\n",
              " ['60 - 67.5KG, One-Two Hand 5 Events (Lightweight)', 3],\n",
              " ['67.5 - 75KG, One-Two Hand 5 Events (Middleweight)', 3],\n",
              " ['75 - 82.5KG, One-Two Hand 5 E. (Light-Heavyweight)', 3],\n",
              " ['- 56KG (Bantamweight)', 18],\n",
              " ['+ 87KG (Heavyweight)', 24],\n",
              " ['56 - 61KG (Featherweight)', 18],\n",
              " ['61 - 66KG (Lightweight)', 18],\n",
              " ['66 - 72KG (Welterweight)', 18],\n",
              " ['72 - 79KG (Middleweight)', 18],\n",
              " ['79 - 87KG (Light-Heavyweight)', 42],\n",
              " ['- 58KG (Bantamweight)', 6],\n",
              " ['58 - 62KG (Featherweight)', 3],\n",
              " ['62 - 67.5KG (Lightweight)', 3],\n",
              " ['1KM Pursuit', 3],\n",
              " ['12 Foot Dinghy Individual', 3],\n",
              " ['- 60KG, Total (Featherweight)', 9],\n",
              " ['+ 82.5KG, Total (Heavyweight)', 12],\n",
              " ['60 - 67.5KG, Total (Lightweight)', 45],\n",
              " ['67.5 - 75KG, Total (Middleweight)', 45],\n",
              " ['75 - 82.5KG, Total (Light-Heavyweight)', 44],\n",
              " ['58 - 60KG (Featherweight)', 3],\n",
              " ['50KM Walk', 54],\n",
              " ['80M Hurdles', 24],\n",
              " ['50.8 - 54KG (Bantamweight)', 6],\n",
              " ['54 - 57.15KG (Featherweight)', 6],\n",
              " ['Floor Exercises', 112],\n",
              " ['Indian Clubs', 3],\n",
              " ['Tumbling', 3],\n",
              " ['Two-Person Keelboat Open (Star)', 90],\n",
              " ['+ 87KG (Super Heavyweight)', 18],\n",
              " ['Basketball', 1012],\n",
              " ['C-1 1000M (Canoe Single)', 51],\n",
              " ['C-2 10000M', 24],\n",
              " ['C-2 1000M (Canoe Double)', 102],\n",
              " ['Folding K-1 10000M', 3],\n",
              " ['Folding K-2 10000M', 6],\n",
              " ['K-1 10000M', 12],\n",
              " ['K-1 1000M (Kayak Single)', 51],\n",
              " ['K-2 10000M', 24],\n",
              " ['K-2 1000M (Kayak Double)', 102],\n",
              " ['Handball', 973],\n",
              " ['- 51KG (Flyweight)', 19],\n",
              " ['51 - 54KG (Bantamweight)', 63],\n",
              " ['54 - 58KG (Featherweight)', 3],\n",
              " ['58 - 62KG (Lightweight)', 3],\n",
              " ['62 - 67KG (Welterweight)', 3],\n",
              " ['67 - 73KG (Middleweight)', 3],\n",
              " ['73 - 80KG (Light-Heavyweight)', 3],\n",
              " ['C-1 10000M', 9],\n",
              " ['K-1 500M (Kayak Single)', 75],\n",
              " ['Dragon', 63],\n",
              " ['Firefly Class', 3],\n",
              " ['Swallow (Golondrina)', 6],\n",
              " ['- 56KG, Total (Bantamweight)', 39],\n",
              " ['56 - 60KG, Total (Featherweight)', 36],\n",
              " ['- 52KG (Flyweight)', 36],\n",
              " ['52 - 57KG (Bantamweight)', 78],\n",
              " ['57 - 63KG (Featherweight)', 24],\n",
              " ['63 - 67KG (Lightweight)', 12],\n",
              " ['67 - 73KG (Welterweight)', 24],\n",
              " ['73 - 79KG (Middleweight)', 24],\n",
              " ['57 - 61KG (Featherweight)', 12],\n",
              " ['61 - 67KG (Lightweight)', 12],\n",
              " ['+ 81KG (Heavyweight)', 32],\n",
              " ['54 - 57KG (Featherweight)', 60],\n",
              " ['57 - 60KG (Lightweight)', 60],\n",
              " ['60 - 63.5KG (Light-Welterweight)', 52],\n",
              " ['63.5 - 67KG (Welterweight)', 52],\n",
              " ['67 - 71KG (Light-Middleweight)', 52],\n",
              " ['71-75KG', 52],\n",
              " ['75 - 81KG (Light-Heavyweight)', 60],\n",
              " ['Balance Beam', 46],\n",
              " ['Team, Portable Apparatus', 48],\n",
              " ['Uneven Bars', 50],\n",
              " ['5.5M', 47],\n",
              " ['Single-Handed Dinghy (Finn)', 42],\n",
              " ['100M Running Deer, Single/Double Shots', 6],\n",
              " ['50M Rifle 3 Positions (3X40 Shots)', 45],\n",
              " ['+ 90KG, Total (Heavyweight)', 15],\n",
              " ['82.5 - 90KG, Total (Middle-Heavyweight)', 33],\n",
              " ['100M Butterfly', 81],\n",
              " ['200M Butterfly', 81],\n",
              " ['20KM Walk', 45],\n",
              " ['Sharpie 12M2', 6],\n",
              " ['4X100M Medley Relay', 387],\n",
              " ['K-1 4X500M', 12],\n",
              " ['K-2 500M (Kayak Double)', 132],\n",
              " ['Flying Dutchman', 54],\n",
              " ['400M Individual Medley', 72],\n",
              " ['K-4 1000M (Kayak Four)', 144],\n",
              " ['Individual Pursuit', 51],\n",
              " ['- 68KG (Lightweight)', 4],\n",
              " ['68 - 80KG (Middleweight)', 4],\n",
              " ['Open Category', 20],\n",
              " ['Volleyball', 934],\n",
              " ['+ 97KG (Heavyweight)', 6],\n",
              " ['63 - 70KG (Lightweight)', 12],\n",
              " ['70 - 78KG (Welterweight)', 12],\n",
              " ['78 - 87KG (Middleweight)', 12],\n",
              " ['87 - 97KG (Light-Heavyweight)', 12],\n",
              " ['+ 97KG (Super Heavyweight)', 6],\n",
              " ['100M Breaststroke', 72],\n",
              " ['200M Individual Medley', 54],\n",
              " ['800M Freestyle', 36],\n",
              " ['- 48KG (Light-Flyweight)', 78],\n",
              " ['48 - 51KG (Flyweight)', 44],\n",
              " ['Skeet (125 Targets)', 33],\n",
              " ['Individual Fita Round', 30],\n",
              " ['100M Hurdles', 34],\n",
              " ['C-1 (Canoe Single)', 18],\n",
              " ['C-2 (Canoe Double)', 36],\n",
              " ['K-1 (Kayak Single)', 36],\n",
              " ['- 63KG (Lightweight)', 7],\n",
              " ['+ 93KG (Heavyweight)', 8],\n",
              " ['63 - 70KG (Half-Middleweight)', 8],\n",
              " ['70 - 80KG (Middleweight)', 8],\n",
              " ['80 - 93KG (Half-Heavyweight)', 8],\n",
              " ['Fleet/Match Race Keelboat Open (Soling)', 72],\n",
              " ['Tempest', 12],\n",
              " ['50M Running Target (30+30 Shots)', 21],\n",
              " ['- 52KG, Total (Flyweight)', 18],\n",
              " ['+ 110KG, Total (Super Heavyweight)', 18],\n",
              " ['52 - 56KG, Total (Bantamweight)', 3],\n",
              " ['91 - 110KG, Total (Heavyweight)', 6],\n",
              " ['+ 100KG (Super Heavyweight)', 24],\n",
              " ['48 - 52KG (Flyweight)', 42],\n",
              " ['57 - 62KG (Featherweight)', 42],\n",
              " ['62 - 68KG (Lightweight)', 42],\n",
              " ['68 - 74KG (Welterweight)', 42],\n",
              " ['74 - 82KG (Middleweight)', 42],\n",
              " ['82 - 90KG (Light-Heavyweight)', 42],\n",
              " ['90 - 100KG (Heavyweight)', 42],\n",
              " ['C-1 500M (Canoe Single)', 27],\n",
              " ['C-2 500M (Canoe Double)', 54],\n",
              " ['Pair Without Coxswain (2-)', 54],\n",
              " ['Quadruple Sculls With Coxswain (4X)', 45],\n",
              " ['Quadruple Sculls Without Coxswain (4X)', 180],\n",
              " ['470 - Two Person Dinghy', 90],\n",
              " ['Tornado - Multihull', 54],\n",
              " ['- 60 KG', 36],\n",
              " ['+ 95KG (Heavyweight)', 16],\n",
              " ['60 - 65KG (Half-Lightweight)', 16],\n",
              " ['65 - 71KG (Lightweight)', 16],\n",
              " ['71 - 78KG (Half-Middleweight)', 16],\n",
              " ['78 - 86KG (Middleweight)', 16],\n",
              " ['86 - 95KG (Half-Heavyweight)', 16],\n",
              " ['100 - 110KG, Total (Heavyweight)', 12],\n",
              " ['90 - 100KG, Total (First-Heavyweight)', 12],\n",
              " ['Duet', 42],\n",
              " ['Solo', 9],\n",
              " ['3000M', 9],\n",
              " ['Heptathlon', 24],\n",
              " ['+ 91KG (Super Heavyweight)', 28],\n",
              " ['81 - 91KG (Heavyweight)', 28],\n",
              " ['K-4 500M (Kayak Four)', 84],\n",
              " ['Points Race', 33],\n",
              " ['Board (Windglider)', 3],\n",
              " ['10M Air Rifle (40 Shots)', 21],\n",
              " ['10M Air Rifle (60 Shots)', 21],\n",
              " ['25M Pistol (30+30 Shots)', 21],\n",
              " ['50M Rifle 3 Positions (3X20 Shots)', 21],\n",
              " ['50M Freestyle', 43],\n",
              " ['Sprint', 24],\n",
              " ['Board (Division Ii)', 3],\n",
              " ['10M Air Pistol (40 Shots)', 18],\n",
              " ['10M Air Pistol (60 Shots)', 18],\n",
              " ['100 - 130KG (Super Heavyweight)', 18],\n",
              " ['Individual (Fita Olympic Round - 70M)', 30],\n",
              " ['Team (Fita Olympic Round - 70M)', 90],\n",
              " ['Baseball', 335],\n",
              " ['- 48KG (Extra-Lightweight)', 12],\n",
              " ['+ 72KG (Heavyweight)', 8],\n",
              " ['48 - 52KG (Half-Lightweight)', 20],\n",
              " ['52 - 56KG (Lightweight)', 8],\n",
              " ['56 - 61KG (Half-Middleweight)', 8],\n",
              " ['61 - 66KG (Middleweight)', 8],\n",
              " ['66 - 72KG (Half-Heavyweight)', 8],\n",
              " ['Coxless Four (4-)', 12],\n",
              " ['Board (Lechner)', 6],\n",
              " ['Single-Handed Dinghy (Europe)', 12],\n",
              " ['Cross-Country', 30],\n",
              " ['Group Competition', 90],\n",
              " ['+ 100KG (Heavyweight)', 16],\n",
              " ['60 - 66KG (Half-Lightweight)', 16],\n",
              " ['66 - 73KG (Lightweight)', 16],\n",
              " ['73 - 81KG (Half-Middleweight)', 16],\n",
              " ['81 - 90KG (Middleweight)', 16],\n",
              " ['90 - 100KG (Half-Heavyweight)', 16],\n",
              " ['Lightweight Coxless Four (4-)', 48],\n",
              " ['Lightweight Double Sculls (2X)', 48],\n",
              " ['Board (Mistral)', 18],\n",
              " ['Single-Handed Dinghy Open (Laser)', 9],\n",
              " ['Double Trap (120 Targets)', 9],\n",
              " ['Double Trap (150 Targets)', 12],\n",
              " ['Softball', 180],\n",
              " ['Beach Volleyball', 60],\n",
              " ['- 54KG, Total (Flyweight)', 3],\n",
              " ['+ 108KG, Total (Super Heavyweight)', 3],\n",
              " ['54 - 59KG, Total (Bantamweight)', 3],\n",
              " ['59 - 64KG, Total (Featherweight)', 3],\n",
              " ['64 - 70KG, Total (Lightweight)', 3],\n",
              " ['70 - 76KG, Total (Middleweight)', 3],\n",
              " ['76 - 83KG, Total (Light-Heavyweight)', 3],\n",
              " ['83 - 91KG, Total (Middle-Heavyweight)', 3],\n",
              " ['91 - 99KG, Total (First-Heavyweight)', 3],\n",
              " ['99 - 108KG, Total (Heavyweight)', 3],\n",
              " ['Synchronized Diving 10M Platform', 36],\n",
              " ['Synchronized Diving 3M Springboard', 36],\n",
              " ['20KM Race Walk', 12],\n",
              " ['500M Time Trial', 6],\n",
              " ['Keirin', 16],\n",
              " ['Madison', 18],\n",
              " ['Olympic Sprint', 9],\n",
              " ['+ 78KG (Heavyweight)', 12],\n",
              " ['52 - 57KG (Lightweight)', 12],\n",
              " ['57 - 63KG (Half-Middleweight)', 12],\n",
              " ['63 - 70KG (Middleweight)', 12],\n",
              " ['70 - 78KG (Half-Heavyweight)', 12],\n",
              " ['49Er - Skiff', 24],\n",
              " ['10M Running Target (30+30 Shots)', 6],\n",
              " ['Skeet (75 Targets)', 9],\n",
              " ['Trap (75 Targets)', 9],\n",
              " ['- 49 KG', 14],\n",
              " ['- 58 KG', 14],\n",
              " ['+ 67 KG', 14],\n",
              " ['+ 80 KG', 14],\n",
              " ['49 - 57 KG', 14],\n",
              " ['57 - 67 KG', 14],\n",
              " ['58 - 68 KG', 14],\n",
              " ['68 - 80 KG', 14],\n",
              " ['+ 105KG', 9],\n",
              " ['+ 75KG', 9],\n",
              " ['105KG', 12],\n",
              " ['48KG', 12],\n",
              " ['53KG', 12],\n",
              " ['56KG', 7],\n",
              " ['58KG', 12],\n",
              " ['62KG', 12],\n",
              " ['63KG', 12],\n",
              " ['69KG', 24],\n",
              " ['75KG', 12],\n",
              " ['77KG', 12],\n",
              " ['85KG', 12],\n",
              " ['94KG', 12],\n",
              " ['48 - 54KG', 6],\n",
              " ['54 - 58KG', 6],\n",
              " ['58 - 63KG', 6],\n",
              " ['63 - 69KG', 6],\n",
              " ['69 - 76KG', 6],\n",
              " ['76 - 85KG', 6],\n",
              " ['85 - 97KG', 6],\n",
              " ['97 - 130KG', 6],\n",
              " ['48KG (Light Flywieght)', 8],\n",
              " ['60 - 64 KG', 12],\n",
              " ['64 - 69 KG', 12],\n",
              " ['69 - 75 KG', 12],\n",
              " ['Team Sprint', 33],\n",
              " ['- 48 KG', 12],\n",
              " ['Star - Keelboat', 12],\n",
              " ['Yngling - Keelboat', 18],\n",
              " ['- 48KG', 7],\n",
              " ['- 55KG', 14],\n",
              " ['48 - 55KG', 7],\n",
              " ['55 - 60KG', 14],\n",
              " ['55 - 63KG', 7],\n",
              " ['60 - 66KG', 18],\n",
              " ['63 - 72KG', 7],\n",
              " ['66 - 74KG', 14],\n",
              " ['74 - 84KG', 13],\n",
              " ['84 - 96KG', 14],\n",
              " ['96 - 120KG', 14],\n",
              " ['Marathon 10KM', 6],\n",
              " ['Finn - Heavyweight Dinghy', 3],\n",
              " ['Laser - One Person Dinghy', 3],\n",
              " ['Laser Radial - One Person Dinghy', 3],\n",
              " ['Rs:X - Windsurfer', 6],\n",
              " ['Synchronized 10M', 12],\n",
              " ['Synchronized 3M', 12],\n",
              " ['200M Medley', 6],\n",
              " ['400M Medley', 6],\n",
              " ['4X100M Freestyle', 38],\n",
              " ['4X100M Medley', 35],\n",
              " ['4X200M Freestyle', 38],\n",
              " ['3000M Steeple', 6],\n",
              " ['+ 91KG', 4],\n",
              " ['46 - 49KG', 4],\n",
              " ['51 KG', 4],\n",
              " ['52KG', 4],\n",
              " ['57 - 60KG', 4],\n",
              " ['60 KG', 4],\n",
              " ['75 - 81KG', 4],\n",
              " ['75 KG', 4],\n",
              " ['81 - 91KG', 4],\n",
              " ['C-1 (Single)', 3],\n",
              " ['C-2 (Double)', 6],\n",
              " ['K-1 (Single)', 6],\n",
              " ['C-1 1000M', 3],\n",
              " ['C-1 200M', 3],\n",
              " ['C-2 1000M', 6],\n",
              " ['K-1 1000M', 3],\n",
              " ['K-1 200M', 6],\n",
              " ['K-1 500M', 3],\n",
              " ['K-2 1000M', 6],\n",
              " ['K-2 200M', 6],\n",
              " ['K-2 500M', 6],\n",
              " ['K-4 1000M', 12],\n",
              " ['K-4 500M', 12],\n",
              " ['Individual Road', 6],\n",
              " ['Time Trial', 6],\n",
              " ['Omnium', 6],\n",
              " ['Team Pursuit', 22],\n",
              " ['Beam', 3],\n",
              " ['Individual All-Around', 9],\n",
              " ['+ 100KG', 4],\n",
              " ['+ 78KG', 4],\n",
              " ['48 - 52KG', 4],\n",
              " ['52 - 57KG', 4],\n",
              " ['57 - 63KG', 4],\n",
              " ['63 - 70KG', 4],\n",
              " ['66 - 73KG', 4],\n",
              " ['70 - 78KG', 4],\n",
              " ['73 - 81KG', 4],\n",
              " ['81 - 90KG', 4],\n",
              " ['90 - 100KG', 4],\n",
              " ['Coxless Four', 12],\n",
              " ['Coxless Pair 2-', 12],\n",
              " ['Double Sculls', 12],\n",
              " ['Eight With Coxswain', 54],\n",
              " ['Lightweight 4', 12],\n",
              " ['Lightweight Doubles', 12],\n",
              " ['Quadruple Sculls', 24],\n",
              " ['Single Sculls', 6],\n",
              " ['470', 12],\n",
              " ['Elliott 6M', 9],\n",
              " ['Finn', 3],\n",
              " ['Laser', 3],\n",
              " ['Laser Radial', 3],\n",
              " ['Rs:X', 6],\n",
              " ['Star', 6],\n",
              " ['10M Air Pistol', 6],\n",
              " ['10M Air Rifle', 6],\n",
              " ['25M Pistol', 3],\n",
              " ['25M Rapid Pistol', 3],\n",
              " ['50M Pistol', 3],\n",
              " ['50M Rifle 3 Positions', 6],\n",
              " ['50M Rifle Prone', 3],\n",
              " ['Double Trap 150', 3],\n",
              " ['Skeet', 6],\n",
              " ['Trap', 6],\n",
              " ['+105KG', 3],\n",
              " ['+75KG', 3],\n",
              " ['-56KG', 3],\n",
              " ['Wf 120KG', 4],\n",
              " ['Wf 48 KG', 4],\n",
              " ['Wf 55 KG', 8],\n",
              " ['Wf 60 KG', 4],\n",
              " ['Wf 63 KG', 4],\n",
              " ['Wf 66 KG', 4],\n",
              " ['Wf 72 KG', 4],\n",
              " ['Wf 74 KG', 4],\n",
              " ['Wf 84 KG', 4],\n",
              " ['Wf 96 KG', 4],\n",
              " ['Wg 120 KG', 4],\n",
              " ['Wg 55 KG', 4],\n",
              " ['Wg 60 KG', 4],\n",
              " ['Wg 66 KG', 4],\n",
              " ['Wg 74 KG', 4],\n",
              " ['Wg 84 KG', 4],\n",
              " ['Wg 96 KG', 4]]"
            ]
          },
          "metadata": {},
          "execution_count": 77
        }
      ]
    },
    {
      "cell_type": "markdown",
      "metadata": {
        "id": "bHWWEWdXwd_2"
      },
      "source": [
        "### 8. Which sport is having most female Gold Medalists? (Top 5)"
      ]
    },
    {
      "cell_type": "code",
      "metadata": {
        "id": "-FoCEDsawd_3",
        "colab": {
          "base_uri": "https://localhost:8080/",
          "height": 387
        },
        "outputId": "72f97f92-d893-4573-ca32-f207e46a735b"
      },
      "source": [
        "\n",
        "df = df[ df['Gender'] == 'Women']\n",
        "df = df[ df['Medal'] == 'Gold']\n",
        "\n",
        "data = []\n",
        "\n",
        "for Sport in df['Sport'].unique():\n",
        "    data.append([ Sport, len(df[df['Sport']  == Sport])])\n",
        "\n",
        "pd.DataFrame(data,columns = ['Sport','freq']).head().sort_values(by='freq', ascending=False).plot(x = 'Sport', y = 'freq', kind = 'bar', figsize = (10,5))"
      ],
      "execution_count": 82,
      "outputs": [
        {
          "output_type": "execute_result",
          "data": {
            "text/plain": [
              "<matplotlib.axes._subplots.AxesSubplot at 0x7efdef218a90>"
            ]
          },
          "metadata": {},
          "execution_count": 82
        },
        {
          "output_type": "display_data",
          "data": {
            "image/png": "[encoded data removed]",
            "text/plain": [
              "<Figure size 720x360 with 1 Axes>"
            ]
          },
          "metadata": {
            "needs_background": "light"
          }
        }
      ]
    },
    {
      "cell_type": "code",
      "metadata": {
        "colab": {
          "base_uri": "https://localhost:8080/"
        },
        "id": "MW5YTZkCWWvD",
        "outputId": "2e61fa3a-cee0-4b69-d11e-16f23d02ffa8"
      },
      "source": [
        "data"
      ],
      "execution_count": 81,
      "outputs": [
        {
          "output_type": "execute_result",
          "data": {
            "text/plain": [
              "[['Golf', 1],\n",
              " ['Tennis', 38],\n",
              " ['Archery', 39],\n",
              " ['Skating', 4],\n",
              " ['Aquatics', 589],\n",
              " ['Sailing', 38],\n",
              " ['Fencing', 108],\n",
              " ['Athletics', 389],\n",
              " ['Gymnastics', 268],\n",
              " ['Canoe / Kayak', 76],\n",
              " ['Equestrian', 51],\n",
              " ['Volleyball', 166],\n",
              " ['Basketball', 120],\n",
              " ['Handball', 142],\n",
              " ['Rowing', 217],\n",
              " ['Hockey', 144],\n",
              " ['Cycling', 45],\n",
              " ['Shooting', 43],\n",
              " ['Table Tennis', 23],\n",
              " ['Badminton', 23],\n",
              " ['Judo', 42],\n",
              " ['Football', 86],\n",
              " ['Softball', 60],\n",
              " ['Modern Pentathlon', 4],\n",
              " ['Taekwondo', 16],\n",
              " ['Triathlon', 4],\n",
              " ['Weightlifting', 28],\n",
              " ['Wrestling', 12],\n",
              " ['Boxing', 3],\n",
              " ['Canoe', 9]]"
            ]
          },
          "metadata": {},
          "execution_count": 81
        }
      ]
    }
  ]
}